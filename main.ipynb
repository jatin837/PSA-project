{
 "cells": [
  {
   "cell_type": "markdown",
   "metadata": {},
   "source": [
    "# Battery Electric Vehicle Charging\n",
    "\n",
    "In this example a battery electric vehicle (BEV) is driven 100 km in the morning and 100 km in the evening, to simulate commuting, and charged during the day by a solar panel at the driver's place of work. The size of the panel is computed by the optimisation.\n",
    "\n",
    "The BEV has a battery of size 100 kWh and an electricity consumption of 0.18 kWh/km.\n",
    "\n",
    "**NB:** this example will use units of kW and kWh, unlike the PyPSA defaults"
   ]
  },
  {
   "cell_type": "code",
   "execution_count": null,
   "metadata": {},
   "outputs": [
    {
     "name": "stdout",
     "output_type": "stream",
     "text": [
      "Requirement already satisfied: pypsa in /home/dj4t9n/.local/lib/python3.9/site-packages (0.19.2)\n",
      "Requirement already satisfied: numpy in /home/dj4t9n/.local/lib/python3.9/site-packages (from pypsa) (1.22.1)\n",
      "Requirement already satisfied: tables in /home/dj4t9n/.local/lib/python3.9/site-packages (from pypsa) (3.7.0)\n",
      "Requirement already satisfied: pyomo>=5.7 in /home/dj4t9n/.local/lib/python3.9/site-packages (from pypsa) (6.4.0)\n",
      "Requirement already satisfied: matplotlib in /home/dj4t9n/.local/lib/python3.9/site-packages (from pypsa) (3.5.1)\n",
      "Requirement already satisfied: xarray in /home/dj4t9n/.local/lib/python3.9/site-packages (from pypsa) (2022.3.0)\n",
      "Requirement already satisfied: networkx>=1.10 in /home/dj4t9n/.local/lib/python3.9/site-packages (from pypsa) (2.8)\n",
      "Requirement already satisfied: deprecation in /home/dj4t9n/.local/lib/python3.9/site-packages (from pypsa) (2.1.0)\n",
      "Requirement already satisfied: scipy in /home/dj4t9n/.local/lib/python3.9/site-packages (from pypsa) (1.8.0)\n",
      "Requirement already satisfied: netcdf4 in /home/dj4t9n/.local/lib/python3.9/site-packages (from pypsa) (1.5.8)\n",
      "Requirement already satisfied: pandas>=0.24.0 in /home/dj4t9n/.local/lib/python3.9/site-packages (from pypsa) (1.4.2)\n",
      "Requirement already satisfied: python-dateutil>=2.8.1 in /home/dj4t9n/.local/lib/python3.9/site-packages (from pandas>=0.24.0->pypsa) (2.8.2)\n",
      "Requirement already satisfied: pytz>=2020.1 in /home/dj4t9n/.local/lib/python3.9/site-packages (from pandas>=0.24.0->pypsa) (2022.1)\n",
      "Requirement already satisfied: ply in /home/dj4t9n/.local/lib/python3.9/site-packages (from pyomo>=5.7->pypsa) (3.11)\n",
      "Requirement already satisfied: packaging in /home/dj4t9n/.local/lib/python3.9/site-packages (from deprecation->pypsa) (21.3)\n",
      "Requirement already satisfied: pillow>=6.2.0 in /home/dj4t9n/miniconda3/lib/python3.9/site-packages (from matplotlib->pypsa) (9.1.0)\n",
      "Requirement already satisfied: cycler>=0.10 in /home/dj4t9n/.local/lib/python3.9/site-packages (from matplotlib->pypsa) (0.11.0)\n",
      "Requirement already satisfied: fonttools>=4.22.0 in /home/dj4t9n/.local/lib/python3.9/site-packages (from matplotlib->pypsa) (4.29.1)\n",
      "Requirement already satisfied: pyparsing>=2.2.1 in /home/dj4t9n/.local/lib/python3.9/site-packages (from matplotlib->pypsa) (3.0.6)\n",
      "Requirement already satisfied: kiwisolver>=1.0.1 in /home/dj4t9n/.local/lib/python3.9/site-packages (from matplotlib->pypsa) (1.3.2)\n",
      "Requirement already satisfied: cftime in /home/dj4t9n/.local/lib/python3.9/site-packages (from netcdf4->pypsa) (1.6.0)\n",
      "Requirement already satisfied: numexpr>=2.6.2 in /home/dj4t9n/.local/lib/python3.9/site-packages (from tables->pypsa) (2.8.1)\n",
      "Requirement already satisfied: six>=1.5 in /home/dj4t9n/miniconda3/lib/python3.9/site-packages (from python-dateutil>=2.8.1->pandas>=0.24.0->pypsa) (1.16.0)\n",
      "Collecting package metadata (current_repodata.json): done\n",
      "Solving environment: done\n",
      "\n",
      "## Package Plan ##\n",
      "\n",
      "  environment location: /home/dj4t9n/miniconda3\n",
      "\n",
      "  added / updated specs:\n",
      "    - cartopy\n",
      "\n",
      "\n",
      "The following packages will be downloaded:\n",
      "\n",
      "    package                    |            build\n",
      "    ---------------------------|-----------------\n",
      "    cartopy-0.18.0             |   py39h0d9ca2b_1         1.7 MB\n",
      "    cycler-0.11.0              |     pyhd8ed1ab_0          10 KB  conda-forge\n",
      "    freetype-2.10.4            |       h0708190_1         890 KB  conda-forge\n",
      "    geos-3.8.0                 |       he6710b0_0         961 KB\n",
      "    jpeg-9e                    |       h7f8727e_0         240 KB\n",
      "    kiwisolver-1.3.2           |   py39h295c915_0          80 KB\n",
      "    lcms2-2.12                 |       hddcbb42_0         443 KB  conda-forge\n",
      "    libblas-3.9.0              |11_linux64_openblas          12 KB  conda-forge\n",
      "    libcblas-3.9.0             |11_linux64_openblas          11 KB  conda-forge\n",
      "    libgfortran-ng-11.2.0      |      h69a702a_16          23 KB  conda-forge\n",
      "    libgfortran5-11.2.0        |      h5c6108e_16         1.7 MB  conda-forge\n",
      "    liblapack-3.9.0            |11_linux64_openblas          11 KB  conda-forge\n",
      "    libopenblas-0.3.17         |pthreads_h8fe5266_1         9.2 MB  conda-forge\n",
      "    libpng-1.6.37              |       h21135ba_2         306 KB  conda-forge\n",
      "    libtiff-4.2.0              |       h85742a9_0         502 KB\n",
      "    libwebp-base-1.2.2         |       h7f8727e_0         440 KB\n",
      "    lz4-c-1.9.3                |       h9c3ff4c_1         179 KB  conda-forge\n",
      "    matplotlib-base-3.3.4      |   py39h2fa2bec_0         6.7 MB  conda-forge\n",
      "    numpy-1.20.3               |   py39hdbf815f_1         5.8 MB  conda-forge\n",
      "    olefile-0.46               |     pyh9f0ad1d_1          32 KB  conda-forge\n",
      "    pillow-7.2.0               |   py39h6f3857e_2         678 KB  conda-forge\n",
      "    proj-6.2.1                 |       hc80f0dc_0        10.2 MB  conda-forge\n",
      "    pyshp-2.2.0                |     pyhd8ed1ab_0          42 KB  conda-forge\n",
      "    scipy-1.5.3                |   py39hee8e79c_0        19.3 MB  conda-forge\n",
      "    shapely-1.7.1              |   py39h1728cc4_0         397 KB\n",
      "    zstd-1.4.9                 |       ha95c52a_0         431 KB  conda-forge\n",
      "    ------------------------------------------------------------\n",
      "                                           Total:        60.2 MB\n",
      "\n",
      "The following NEW packages will be INSTALLED:\n",
      "\n",
      "  cartopy            pkgs/main/linux-64::cartopy-0.18.0-py39h0d9ca2b_1\n",
      "  cycler             conda-forge/noarch::cycler-0.11.0-pyhd8ed1ab_0\n",
      "  freetype           conda-forge/linux-64::freetype-2.10.4-h0708190_1\n",
      "  geos               pkgs/main/linux-64::geos-3.8.0-he6710b0_0\n",
      "  jpeg               pkgs/main/linux-64::jpeg-9e-h7f8727e_0\n",
      "  kiwisolver         pkgs/main/linux-64::kiwisolver-1.3.2-py39h295c915_0\n",
      "  lcms2              conda-forge/linux-64::lcms2-2.12-hddcbb42_0\n",
      "  libblas            conda-forge/linux-64::libblas-3.9.0-11_linux64_openblas\n",
      "  libcblas           conda-forge/linux-64::libcblas-3.9.0-11_linux64_openblas\n",
      "  libgfortran-ng     conda-forge/linux-64::libgfortran-ng-11.2.0-h69a702a_16\n",
      "  libgfortran5       conda-forge/linux-64::libgfortran5-11.2.0-h5c6108e_16\n",
      "  liblapack          conda-forge/linux-64::liblapack-3.9.0-11_linux64_openblas\n",
      "  libopenblas        conda-forge/linux-64::libopenblas-0.3.17-pthreads_h8fe5266_1\n",
      "  libpng             conda-forge/linux-64::libpng-1.6.37-h21135ba_2\n",
      "  libtiff            pkgs/main/linux-64::libtiff-4.2.0-h85742a9_0\n",
      "  libwebp-base       pkgs/main/linux-64::libwebp-base-1.2.2-h7f8727e_0\n",
      "  lz4-c              conda-forge/linux-64::lz4-c-1.9.3-h9c3ff4c_1\n",
      "  matplotlib-base    conda-forge/linux-64::matplotlib-base-3.3.4-py39h2fa2bec_0\n",
      "  numpy              conda-forge/linux-64::numpy-1.20.3-py39hdbf815f_1\n",
      "  olefile            conda-forge/noarch::olefile-0.46-pyh9f0ad1d_1\n",
      "  pillow             conda-forge/linux-64::pillow-7.2.0-py39h6f3857e_2\n",
      "  proj               conda-forge/linux-64::proj-6.2.1-hc80f0dc_0\n",
      "  pyshp              conda-forge/noarch::pyshp-2.2.0-pyhd8ed1ab_0\n",
      "  scipy              conda-forge/linux-64::scipy-1.5.3-py39hee8e79c_0\n",
      "  shapely            pkgs/main/linux-64::shapely-1.7.1-py39h1728cc4_0\n",
      "  zstd               conda-forge/linux-64::zstd-1.4.9-ha95c52a_0\n",
      "\n",
      "\n",
      "Proceed ([y]/n)? "
     ]
    }
   ],
   "source": [
    "!pip install pypsa\n",
    "!conda install -c conda-forge cartopy\n"
   ]
  },
  {
   "cell_type": "code",
   "execution_count": 1,
   "metadata": {},
   "outputs": [],
   "source": [
    "import pypsa\n",
    "import pandas as pd\n",
    "import matplotlib.pyplot as plt\n",
    "\n",
    "%matplotlib inline"
   ]
  },
  {
   "cell_type": "code",
   "execution_count": 2,
   "metadata": {},
   "outputs": [],
   "source": [
    "# use 24 hour period for consideration\n",
    "index = pd.date_range(\"2022-01-01 00:00\", \"2022-01-01 23:00\", freq=\"H\")\n",
    "\n",
    "# consumption pattern of BEV\n",
    "bev_usage = pd.Series([0.0] * 7 + [9.0] * 2 + [0.0] * 8 + [9.0] * 2 + [0.0] * 5, index)\n",
    "\n",
    "# solar PV panel generation per unit of capacity\n",
    "pv_pu = pd.Series(\n",
    "    [0.0] * 7\n",
    "    + [0.2, 0.4, 0.6, 0.75, 0.85, 0.9, 0.85, 0.75, 0.6, 0.4, 0.2, 0.1]\n",
    "    + [0.0] * 5,\n",
    "    index,\n",
    ")\n",
    "\n",
    "# availability of charging - i.e. only when parked at office\n",
    "charger_p_max_pu = pd.Series(0, index=index)\n",
    "charger_p_max_pu[\"2022-01-01 09:00\":\"2022-01-01 16:00\"] = 1.0"
   ]
  },
  {
   "cell_type": "code",
   "execution_count": 3,
   "metadata": {},
   "outputs": [
    {
     "data": {
      "text/plain": [
       "2022-01-01 00:00:00    0.0\n",
       "2022-01-01 01:00:00    0.0\n",
       "2022-01-01 02:00:00    0.0\n",
       "2022-01-01 03:00:00    0.0\n",
       "2022-01-01 04:00:00    0.0\n",
       "2022-01-01 05:00:00    0.0\n",
       "2022-01-01 06:00:00    0.0\n",
       "2022-01-01 07:00:00    9.0\n",
       "2022-01-01 08:00:00    9.0\n",
       "2022-01-01 09:00:00    0.0\n",
       "2022-01-01 10:00:00    0.0\n",
       "2022-01-01 11:00:00    0.0\n",
       "2022-01-01 12:00:00    0.0\n",
       "2022-01-01 13:00:00    0.0\n",
       "2022-01-01 14:00:00    0.0\n",
       "2022-01-01 15:00:00    0.0\n",
       "2022-01-01 16:00:00    0.0\n",
       "2022-01-01 17:00:00    9.0\n",
       "2022-01-01 18:00:00    9.0\n",
       "2022-01-01 19:00:00    0.0\n",
       "2022-01-01 20:00:00    0.0\n",
       "2022-01-01 21:00:00    0.0\n",
       "2022-01-01 22:00:00    0.0\n",
       "2022-01-01 23:00:00    0.0\n",
       "Freq: H, dtype: float64"
      ]
     },
     "execution_count": 3,
     "metadata": {},
     "output_type": "execute_result"
    }
   ],
   "source": [
    "bev_usage"
   ]
  },
  {
   "cell_type": "code",
   "execution_count": 4,
   "metadata": {},
   "outputs": [
    {
     "data": {
      "text/plain": [
       "2022-01-01 00:00:00    0.00\n",
       "2022-01-01 01:00:00    0.00\n",
       "2022-01-01 02:00:00    0.00\n",
       "2022-01-01 03:00:00    0.00\n",
       "2022-01-01 04:00:00    0.00\n",
       "2022-01-01 05:00:00    0.00\n",
       "2022-01-01 06:00:00    0.00\n",
       "2022-01-01 07:00:00    0.20\n",
       "2022-01-01 08:00:00    0.40\n",
       "2022-01-01 09:00:00    0.60\n",
       "2022-01-01 10:00:00    0.75\n",
       "2022-01-01 11:00:00    0.85\n",
       "2022-01-01 12:00:00    0.90\n",
       "2022-01-01 13:00:00    0.85\n",
       "2022-01-01 14:00:00    0.75\n",
       "2022-01-01 15:00:00    0.60\n",
       "2022-01-01 16:00:00    0.40\n",
       "2022-01-01 17:00:00    0.20\n",
       "2022-01-01 18:00:00    0.10\n",
       "2022-01-01 19:00:00    0.00\n",
       "2022-01-01 20:00:00    0.00\n",
       "2022-01-01 21:00:00    0.00\n",
       "2022-01-01 22:00:00    0.00\n",
       "2022-01-01 23:00:00    0.00\n",
       "Freq: H, dtype: float64"
      ]
     },
     "execution_count": 4,
     "metadata": {},
     "output_type": "execute_result"
    }
   ],
   "source": [
    "pv_pu"
   ]
  },
  {
   "cell_type": "code",
   "execution_count": 5,
   "metadata": {},
   "outputs": [
    {
     "data": {
      "text/plain": [
       "2022-01-01 00:00:00    0\n",
       "2022-01-01 01:00:00    0\n",
       "2022-01-01 02:00:00    0\n",
       "2022-01-01 03:00:00    0\n",
       "2022-01-01 04:00:00    0\n",
       "2022-01-01 05:00:00    0\n",
       "2022-01-01 06:00:00    0\n",
       "2022-01-01 07:00:00    0\n",
       "2022-01-01 08:00:00    0\n",
       "2022-01-01 09:00:00    1\n",
       "2022-01-01 10:00:00    1\n",
       "2022-01-01 11:00:00    1\n",
       "2022-01-01 12:00:00    1\n",
       "2022-01-01 13:00:00    1\n",
       "2022-01-01 14:00:00    1\n",
       "2022-01-01 15:00:00    1\n",
       "2022-01-01 16:00:00    1\n",
       "2022-01-01 17:00:00    0\n",
       "2022-01-01 18:00:00    0\n",
       "2022-01-01 19:00:00    0\n",
       "2022-01-01 20:00:00    0\n",
       "2022-01-01 21:00:00    0\n",
       "2022-01-01 22:00:00    0\n",
       "2022-01-01 23:00:00    0\n",
       "Freq: H, dtype: int64"
      ]
     },
     "execution_count": 5,
     "metadata": {},
     "output_type": "execute_result"
    }
   ],
   "source": [
    "charger_p_max_pu"
   ]
  },
  {
   "cell_type": "code",
   "execution_count": 6,
   "metadata": {},
   "outputs": [
    {
     "data": {
      "image/png": "[encoded data removed]",
      "text/plain": [
       "<Figure size 720x504 with 3 Axes>"
      ]
     },
     "metadata": {
      "needs_background": "light"
     },
     "output_type": "display_data"
    }
   ],
   "source": [
    "df = pd.concat({\"BEV\": bev_usage, \"PV\": pv_pu, \"Charger\": charger_p_max_pu}, axis=1)\n",
    "df.plot.area(subplots=True, figsize=(10, 7))\n",
    "plt.tight_layout()"
   ]
  },
  {
   "cell_type": "markdown",
   "metadata": {},
   "source": [
    "Initialize the network"
   ]
  },
  {
   "cell_type": "code",
   "execution_count": 7,
   "metadata": {},
   "outputs": [],
   "source": [
    "network = pypsa.Network()\n",
    "network.set_snapshots(index)\n",
    "\n",
    "network.add(\"Bus\", \"place of work\", carrier=\"AC\")\n",
    "\n",
    "network.add(\"Bus\", \"battery\", carrier=\"Li-ion\")\n",
    "\n",
    "network.add(\n",
    "    \"Generator\",\n",
    "    \"PV panel\",\n",
    "    bus=\"place of work\",\n",
    "    p_nom_extendable=True,\n",
    "    p_max_pu=pv_pu,\n",
    "    capital_cost=1000.0,\n",
    ")\n",
    "\n",
    "network.add(\"Load\", \"driving\", bus=\"battery\", p_set=bev_usage)\n",
    "\n",
    "network.add(\n",
    "    \"Link\",\n",
    "    \"charger\",\n",
    "    bus0=\"place of work\",\n",
    "    bus1=\"battery\",\n",
    "    p_nom=120,  # super-charger with 120 kW\n",
    "    p_max_pu=charger_p_max_pu,\n",
    "    efficiency=0.9,\n",
    ")\n",
    "\n",
    "\n",
    "network.add(\"Store\", \"battery storage\", bus=\"battery\", e_cyclic=True, e_nom=100.0)"
   ]
  },
  {
   "cell_type": "code",
   "execution_count": 11,
   "metadata": {},
   "outputs": [
    {
     "data": {
      "text/plain": [
       "(<matplotlib.collections.PatchCollection at 0x7fbda05688e0>,\n",
       " <matplotlib.collections.LineCollection at 0x7fbda056d100>)"
      ]
     },
     "execution_count": 11,
     "metadata": {},
     "output_type": "execute_result"
    },
    {
     "data": {
      "image/png": "[encoded data removed]",
      "text/plain": [
       "<Figure size 432x288 with 1 Axes>"
      ]
     },
     "metadata": {
      "needs_background": "light"
     },
     "output_type": "display_data"
    }
   ],
   "source": [
    "network.plot()"
   ]
  },
  {
   "cell_type": "code",
   "execution_count": 11,
   "metadata": {},
   "outputs": [
    {
     "name": "stderr",
     "output_type": "stream",
     "text": [
      "INFO:pypsa.opf:Performed preliminary steps\n",
      "INFO:pypsa.opf:Building pyomo model using `kirchhoff` formulation\n",
      "INFO:pypsa.opf:Solving model using glpk\n",
      "INFO:pypsa.opf:Optimization successful\n"
     ]
    },
    {
     "name": "stdout",
     "output_type": "stream",
     "text": [
      "# ==========================================================\n",
      "# = Solver Results                                         =\n",
      "# ==========================================================\n",
      "# ----------------------------------------------------------\n",
      "#   Problem Information\n",
      "# ----------------------------------------------------------\n",
      "Problem: \n",
      "- Name: unknown\n",
      "  Lower bound: 7017.54385964912\n",
      "  Upper bound: 7017.54385964912\n",
      "  Number of objectives: 1\n",
      "  Number of constraints: 169\n",
      "  Number of variables: 98\n",
      "  Number of nonzeros: 277\n",
      "  Sense: minimize\n",
      "# ----------------------------------------------------------\n",
      "#   Solver Information\n",
      "# ----------------------------------------------------------\n",
      "Solver: \n",
      "- Status: ok\n",
      "  Termination condition: optimal\n",
      "  Statistics: \n",
      "    Branch and bound: \n",
      "      Number of bounded subproblems: 0\n",
      "      Number of created subproblems: 0\n",
      "  Error rc: 0\n",
      "  Time: 0.01387166976928711\n",
      "# ----------------------------------------------------------\n",
      "#   Solution Information\n",
      "# ----------------------------------------------------------\n",
      "Solution: \n",
      "- number of solutions: 0\n",
      "  number of solutions displayed: 0\n",
      "Objective: 7017.54385964912\n"
     ]
    },
    {
     "name": "stderr",
     "output_type": "stream",
     "text": [
      "/home/dj4t9n/.local/lib/python3.9/site-packages/pypsa/opf.py:1293: FutureWarning: Using the level keyword in DataFrame and Series aggregations is deprecated and will be removed in a future version. Use groupby instead. df.sum(level=1) should use df.groupby(level=1).sum().\n",
      "  pd.concat({c.name:\n"
     ]
    }
   ],
   "source": [
    "network.lopf()\n",
    "print(\"Objective:\", network.objective)"
   ]
  },
  {
   "cell_type": "markdown",
   "metadata": {},
   "source": [
    "The optimal panel size in kW is"
   ]
  },
  {
   "cell_type": "code",
   "execution_count": 61,
   "metadata": {},
   "outputs": [
    {
     "data": {
      "text/plain": [
       "7.01754385964912"
      ]
     },
     "execution_count": 61,
     "metadata": {},
     "output_type": "execute_result"
    }
   ],
   "source": [
    "network.generators.p_nom_opt[\"PV panel\"]"
   ]
  },
  {
   "cell_type": "code",
   "execution_count": 67,
   "metadata": {},
   "outputs": [
    {
     "data": {
      "text/plain": [
       "<AxesSubplot:xlabel='snapshot'>"
      ]
     },
     "execution_count": 67,
     "metadata": {},
     "output_type": "execute_result"
    },
    {
     "data": {
      "image/png": "[encoded data removed]",
      "text/plain": [
       "<Figure size 432x288 with 1 Axes>"
      ]
     },
     "metadata": {
      "needs_background": "light"
     },
     "output_type": "display_data"
    }
   ],
   "source": [
    "network.generators_t.p.plot()"
   ]
  },
  {
   "cell_type": "code",
   "execution_count": 9,
   "metadata": {},
   "outputs": [
    {
     "data": {
      "image/png": "[encoded data removed]",
      "text/plain": [
       "<Figure size 648x288 with 1 Axes>"
      ]
     },
     "metadata": {
      "needs_background": "light"
     },
     "output_type": "display_data"
    }
   ],
   "source": [
    "network.generators_t.p.plot.area(figsize=(9, 4))\n",
    "plt.tight_layout()"
   ]
  },
  {
   "cell_type": "code",
   "execution_count": 10,
   "metadata": {},
   "outputs": [
    {
     "data": {
      "image/png": "[encoded data removed]",
      "text/plain": [
       "<Figure size 720x360 with 1 Axes>"
      ]
     },
     "metadata": {
      "needs_background": "light"
     },
     "output_type": "display_data"
    }
   ],
   "source": [
    "df = pd.DataFrame(\n",
    "    {attr: network.stores_t[attr][\"battery storage\"] for attr in [\"p\", \"e\"]}\n",
    ")\n",
    "df.plot(grid=True, figsize=(10, 5))\n",
    "plt.legend(labels=[\"Energy output\", \"State of charge\"])\n",
    "plt.tight_layout()"
   ]
  },
  {
   "cell_type": "markdown",
   "metadata": {},
   "source": [
    "The losses in kWh per pay are:"
   ]
  },
  {
   "cell_type": "code",
   "execution_count": 69,
   "metadata": {},
   "outputs": [
    {
     "data": {
      "text/plain": [
       "3.9999999999999716"
      ]
     },
     "execution_count": 69,
     "metadata": {},
     "output_type": "execute_result"
    }
   ],
   "source": [
    "(\n",
    "    network.generators_t.p.loc[:, \"PV panel\"].sum()\n",
    "    - network.loads_t.p.loc[:, \"driving\"].sum()\n",
    ")"
   ]
  },
  {
   "cell_type": "code",
   "execution_count": 68,
   "metadata": {},
   "outputs": [
    {
     "data": {
      "image/png": "[encoded data removed]",
      "text/plain": [
       "<Figure size 648x360 with 1 Axes>"
      ]
     },
     "metadata": {
      "needs_background": "light"
     },
     "output_type": "display_data"
    }
   ],
   "source": [
    "network.links_t.p0.plot.area(figsize=(9, 5))\n",
    "plt.tight_layout()"
   ]
  }
 ],
 "metadata": {
  "@webio": {
   "lastCommId": null,
   "lastKernelId": null
  },
  "kernelspec": {
   "display_name": "Python 3 (ipykernel)",
   "language": "python",
   "name": "python3"
  },
  "language_info": {
   "codemirror_mode": {
    "name": "ipython",
    "version": 3
   },
   "file_extension": ".py",
   "mimetype": "text/x-python",
   "name": "python",
   "nbconvert_exporter": "python",
   "pygments_lexer": "ipython3",
   "version": "3.9.7"
  }
 },
 "nbformat": 4,
 "nbformat_minor": 4
}
